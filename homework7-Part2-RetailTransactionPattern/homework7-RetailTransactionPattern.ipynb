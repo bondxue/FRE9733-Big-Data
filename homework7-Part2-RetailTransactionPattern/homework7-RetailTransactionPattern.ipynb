{
 "cells": [
  {
   "cell_type": "markdown",
   "metadata": {},
   "source": [
    "# Retail Transaction Pattern\n",
    "\n",
    "#### Mengheng Xue\n",
    "\n",
    "#### Due: 2019-04-03"
   ]
  },
  {
   "cell_type": "markdown",
   "metadata": {},
   "source": [
    "### Import Libraries"
   ]
  },
  {
   "cell_type": "code",
   "execution_count": 1,
   "metadata": {},
   "outputs": [],
   "source": [
    "# Importing the libraries\n",
    "import numpy as np\n",
    "import matplotlib.pyplot as plt\n",
    "import pandas as pd"
   ]
  },
  {
   "cell_type": "markdown",
   "metadata": {},
   "source": [
    "### Data Preprocessing"
   ]
  },
  {
   "cell_type": "code",
   "execution_count": 22,
   "metadata": {},
   "outputs": [],
   "source": [
    "# Data Preprocessing\n",
    "data = {} # key: invoice date, value: stock code \n",
    "with open('Retail_Transaction_Example.csv', 'r') as fp:\n",
    "    next(fp) #skip the first row\n",
    "    rows = (line.rstrip() for line in fp)  # All lines including the blank ones\n",
    "    rows = (line for line in rows if line)  # Non-blank lines\n",
    "    for row in rows:\n",
    "        item = row.strip().split(',')\n",
    "        key, value = item[-1], item[1]\n",
    "        if key in data.keys():\n",
    "            data[key].append(value)\n",
    "        else:\n",
    "transactions = list(data.values())\n",
    "\n",
    "\n",
    "\n",
    "# # only care about non-repetitive items \n",
    "# for i in range(len(data)):\n",
    "#     data[i] = list(set(data[i]))    \n",
    "\n",
    "        "
   ]
  },
  {
   "cell_type": "code",
   "execution_count": null,
   "metadata": {},
   "outputs": [],
   "source": [
    "# Training Apriori on the dataset\n",
    "from apyori import apriori\n",
    "rules = apriori(transactions, min_support = 0.003, min_confidence = 0.2, min_lift = 3, min_length = 2)\n",
    "\n",
    "\n",
    "# Visualising the results\n",
    "results = list(rules)\n",
    "myResults = [list(x) for x in results]"
   ]
  },
  {
   "cell_type": "code",
   "execution_count": null,
   "metadata": {},
   "outputs": [],
   "source": []
  }
 ],
 "metadata": {
  "kernelspec": {
   "display_name": "Python 3",
   "language": "python",
   "name": "python3"
  },
  "language_info": {
   "codemirror_mode": {
    "name": "ipython",
    "version": 3
   },
   "file_extension": ".py",
   "mimetype": "text/x-python",
   "name": "python",
   "nbconvert_exporter": "python",
   "pygments_lexer": "ipython3",
   "version": "3.6.7"
  },
  "varInspector": {
   "cols": {
    "lenName": 16,
    "lenType": 16,
    "lenVar": 40
   },
   "kernels_config": {
    "python": {
     "delete_cmd_postfix": "",
     "delete_cmd_prefix": "del ",
     "library": "var_list.py",
     "varRefreshCmd": "print(var_dic_list())"
    },
    "r": {
     "delete_cmd_postfix": ") ",
     "delete_cmd_prefix": "rm(",
     "library": "var_list.r",
     "varRefreshCmd": "cat(var_dic_list()) "
    }
   },
   "types_to_exclude": [
    "module",
    "function",
    "builtin_function_or_method",
    "instance",
    "_Feature"
   ],
   "window_display": false
  }
 },
 "nbformat": 4,
 "nbformat_minor": 2
}

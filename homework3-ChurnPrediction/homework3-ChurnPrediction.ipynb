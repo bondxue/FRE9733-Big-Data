{
 "cells": [
  {
   "cell_type": "markdown",
   "metadata": {},
   "source": [
    "# Homework– Churn Prediction\n",
    "\n",
    "**02/19/2019**\n",
    "\n",
    "**Mengheng Xue**"
   ]
  },
  {
   "cell_type": "markdown",
   "metadata": {},
   "source": [
    "### Data Preprocessing "
   ]
  },
  {
   "cell_type": "code",
   "execution_count": 2,
   "metadata": {},
   "outputs": [
    {
     "data": {
      "text/html": [
       "<div>\n",
       "<style scoped>\n",
       "    .dataframe tbody tr th:only-of-type {\n",
       "        vertical-align: middle;\n",
       "    }\n",
       "\n",
       "    .dataframe tbody tr th {\n",
       "        vertical-align: top;\n",
       "    }\n",
       "\n",
       "    .dataframe thead th {\n",
       "        text-align: right;\n",
       "    }\n",
       "</style>\n",
       "<table border=\"1\" class=\"dataframe\">\n",
       "  <thead>\n",
       "    <tr style=\"text-align: right;\">\n",
       "      <th></th>\n",
       "      <th>cust_id</th>\n",
       "      <th>churn_flag</th>\n",
       "      <th>gender</th>\n",
       "      <th>marrital</th>\n",
       "      <th>age</th>\n",
       "      <th>home_owner</th>\n",
       "      <th>num_cont</th>\n",
       "      <th>tot_bill</th>\n",
       "      <th>tot_call</th>\n",
       "      <th>tot_bal</th>\n",
       "      <th>fortune</th>\n",
       "      <th>tot_bytes</th>\n",
       "      <th>tot_air</th>\n",
       "      <th>num_out</th>\n",
       "      <th>google_bytes</th>\n",
       "      <th>google_air</th>\n",
       "      <th>yahoo_bytes</th>\n",
       "      <th>yahoo_air</th>\n",
       "    </tr>\n",
       "  </thead>\n",
       "  <tbody>\n",
       "    <tr>\n",
       "      <th>0</th>\n",
       "      <td>c000001</td>\n",
       "      <td>1</td>\n",
       "      <td>Male</td>\n",
       "      <td>divorced</td>\n",
       "      <td>49.0</td>\n",
       "      <td>0</td>\n",
       "      <td>0</td>\n",
       "      <td>134.130817</td>\n",
       "      <td>53</td>\n",
       "      <td>4973.07</td>\n",
       "      <td>Mass</td>\n",
       "      <td>931.28</td>\n",
       "      <td>3046.90</td>\n",
       "      <td>194</td>\n",
       "      <td>320.52</td>\n",
       "      <td>1270.23</td>\n",
       "      <td>194.04</td>\n",
       "      <td>710.45</td>\n",
       "    </tr>\n",
       "    <tr>\n",
       "      <th>1</th>\n",
       "      <td>c000002</td>\n",
       "      <td>1</td>\n",
       "      <td>Male</td>\n",
       "      <td>divorced</td>\n",
       "      <td>33.0</td>\n",
       "      <td>0</td>\n",
       "      <td>1</td>\n",
       "      <td>121.247165</td>\n",
       "      <td>68</td>\n",
       "      <td>4528.01</td>\n",
       "      <td>Low</td>\n",
       "      <td>580.62</td>\n",
       "      <td>3549.74</td>\n",
       "      <td>331</td>\n",
       "      <td>491.50</td>\n",
       "      <td>1484.64</td>\n",
       "      <td>32.14</td>\n",
       "      <td>823.42</td>\n",
       "    </tr>\n",
       "    <tr>\n",
       "      <th>2</th>\n",
       "      <td>c000003</td>\n",
       "      <td>1</td>\n",
       "      <td>Female</td>\n",
       "      <td>divorced</td>\n",
       "      <td>38.0</td>\n",
       "      <td>0</td>\n",
       "      <td>1</td>\n",
       "      <td>164.144198</td>\n",
       "      <td>38</td>\n",
       "      <td>5565.09</td>\n",
       "      <td>Affluent</td>\n",
       "      <td>754.07</td>\n",
       "      <td>2996.59</td>\n",
       "      <td>139</td>\n",
       "      <td>283.24</td>\n",
       "      <td>764.69</td>\n",
       "      <td>182.07</td>\n",
       "      <td>718.69</td>\n",
       "    </tr>\n",
       "    <tr>\n",
       "      <th>3</th>\n",
       "      <td>c000004</td>\n",
       "      <td>1</td>\n",
       "      <td>Female</td>\n",
       "      <td>married</td>\n",
       "      <td>26.0</td>\n",
       "      <td>1</td>\n",
       "      <td>1</td>\n",
       "      <td>177.394137</td>\n",
       "      <td>80</td>\n",
       "      <td>5370.00</td>\n",
       "      <td>Affluent</td>\n",
       "      <td>384.81</td>\n",
       "      <td>2443.78</td>\n",
       "      <td>98</td>\n",
       "      <td>384.81</td>\n",
       "      <td>721.44</td>\n",
       "      <td>145.09</td>\n",
       "      <td>742.61</td>\n",
       "    </tr>\n",
       "    <tr>\n",
       "      <th>4</th>\n",
       "      <td>c000005</td>\n",
       "      <td>0</td>\n",
       "      <td>Male</td>\n",
       "      <td>single</td>\n",
       "      <td>55.0</td>\n",
       "      <td>0</td>\n",
       "      <td>2</td>\n",
       "      <td>155.183919</td>\n",
       "      <td>50</td>\n",
       "      <td>5101.25</td>\n",
       "      <td>Affluent</td>\n",
       "      <td>15.30</td>\n",
       "      <td>2576.98</td>\n",
       "      <td>294</td>\n",
       "      <td>15.30</td>\n",
       "      <td>774.92</td>\n",
       "      <td>15.30</td>\n",
       "      <td>710.88</td>\n",
       "    </tr>\n",
       "  </tbody>\n",
       "</table>\n",
       "</div>"
      ],
      "text/plain": [
       "   cust_id  churn_flag  gender  marrital   age  home_owner  num_cont  \\\n",
       "0  c000001           1    Male  divorced  49.0           0         0   \n",
       "1  c000002           1    Male  divorced  33.0           0         1   \n",
       "2  c000003           1  Female  divorced  38.0           0         1   \n",
       "3  c000004           1  Female   married  26.0           1         1   \n",
       "4  c000005           0    Male    single  55.0           0         2   \n",
       "\n",
       "     tot_bill  tot_call  tot_bal   fortune  tot_bytes  tot_air  num_out  \\\n",
       "0  134.130817        53  4973.07      Mass     931.28  3046.90      194   \n",
       "1  121.247165        68  4528.01       Low     580.62  3549.74      331   \n",
       "2  164.144198        38  5565.09  Affluent     754.07  2996.59      139   \n",
       "3  177.394137        80  5370.00  Affluent     384.81  2443.78       98   \n",
       "4  155.183919        50  5101.25  Affluent      15.30  2576.98      294   \n",
       "\n",
       "   google_bytes  google_air  yahoo_bytes  yahoo_air  \n",
       "0        320.52     1270.23       194.04     710.45  \n",
       "1        491.50     1484.64        32.14     823.42  \n",
       "2        283.24      764.69       182.07     718.69  \n",
       "3        384.81      721.44       145.09     742.61  \n",
       "4         15.30      774.92        15.30     710.88  "
      ]
     },
     "execution_count": 2,
     "metadata": {},
     "output_type": "execute_result"
    }
   ],
   "source": [
    "# Importing the libraries\n",
    "import numpy as np\n",
    "import matplotlib.pyplot as plt\n",
    "import pandas as pd\n",
    "\n",
    "# Importing the dataset\n",
    "dataset = pd.read_csv('Week3_Mocked_Customer_Data_With_Missing.csv')\n",
    "dataset.head(5)"
   ]
  },
  {
   "cell_type": "code",
   "execution_count": 3,
   "metadata": {},
   "outputs": [
    {
     "data": {
      "text/plain": [
       "array([<matplotlib.axes._subplots.AxesSubplot object at 0x0000022299E3DB38>,\n",
       "       <matplotlib.axes._subplots.AxesSubplot object at 0x000002229A64FEB8>],\n",
       "      dtype=object)"
      ]
     },
     "execution_count": 3,
     "metadata": {},
     "output_type": "execute_result"
    },
    {
     "data": {
      "image/png": "[encoded data removed]",
      "text/plain": [
       "<Figure size 432x288 with 2 Axes>"
      ]
     },
     "metadata": {
      "needs_background": "light"
     },
     "output_type": "display_data"
    }
   ],
   "source": [
    "# Plot histograms of “age” group by “churn”\n",
    "dataset['age'].hist(by=dataset['churn_flag'])"
   ]
  },
  {
   "cell_type": "code",
   "execution_count": 4,
   "metadata": {},
   "outputs": [],
   "source": [
    "# separete independent and dependent variables \n",
    "X = dataset.iloc[:, 2:-1].values\n",
    "y = dataset.iloc[:, 1].values\n",
    "\n",
    "# Taking care of missing data\n",
    "from sklearn.impute import SimpleImputer\n",
    "imputer = SimpleImputer(missing_values = np.nan, strategy = 'most_frequent')\n",
    "imputer.fit(X[:, :])\n",
    "X[:, :] = imputer.transform(X[:, :])"
   ]
  },
  {
   "cell_type": "code",
   "execution_count": 7,
   "metadata": {},
   "outputs": [
    {
     "name": "stdout",
     "output_type": "stream",
     "text": [
      "t-test index = 693.6014709665144\n",
      "p-value = 0.0\n"
     ]
    }
   ],
   "source": [
    "# t-test of “tot_bill” regarding “churn”\n",
    "from scipy.stats import ttest_ind\n",
    "tot_bill = X[:, 5]\n",
    "t_test, p_value = ttest_ind(tot_bill, y)\n",
    "print('t-test index = {}\\np-value = {}'.format(t_test, p_value))"
   ]
  },
  {
   "cell_type": "code",
   "execution_count": 8,
   "metadata": {},
   "outputs": [
    {
     "name": "stderr",
     "output_type": "stream",
     "text": [
      "C:\\Users\\mengh\\Anaconda3\\lib\\site-packages\\sklearn\\preprocessing\\_encoders.py:368: FutureWarning: The handling of integer data will change in version 0.22. Currently, the categories are determined based on the range [0, max(values)], while in the future they will be determined based on the unique values.\n",
      "If you want the future behaviour and silence this warning, you can specify \"categories='auto'\".\n",
      "In case you used a LabelEncoder before this OneHotEncoder to convert the categories to integers, then you can now use the OneHotEncoder directly.\n",
      "  warnings.warn(msg, FutureWarning)\n",
      "C:\\Users\\mengh\\Anaconda3\\lib\\site-packages\\sklearn\\preprocessing\\_encoders.py:390: DeprecationWarning: The 'categorical_features' keyword is deprecated in version 0.20 and will be removed in 0.22. You can use the ColumnTransformer instead.\n",
      "  \"use the ColumnTransformer instead.\", DeprecationWarning)\n"
     ]
    }
   ],
   "source": [
    "# Encoding categorical data\n",
    "from sklearn.preprocessing import LabelEncoder, OneHotEncoder\n",
    "labelencoder_X_1 = LabelEncoder()\n",
    "X[:, 0] = labelencoder_X_1.fit_transform(X[:, 0]) # gender\n",
    "labelencoder_X_2 = LabelEncoder()\n",
    "X[:, 1] = labelencoder_X_2.fit_transform(X[:, 1]) # marrital\n",
    "labelencoder_X_3 = LabelEncoder()\n",
    "X[:, 8] = labelencoder_X_3.fit_transform(X[:, 8].astype(str)) # fortune\n",
    "onehotencoder = OneHotEncoder(categorical_features = [0, 1, 8])\n",
    "X = onehotencoder.fit_transform(X).toarray()\n",
    "# Avoid dummy variable trap\n",
    "X = np.delete(X, 2, axis=1) # delete dummy variable for marrital \n",
    "X = np.delete(X, 4, axis=1) # delete dummy variable for fortune"
   ]
  },
  {
   "cell_type": "code",
   "execution_count": 9,
   "metadata": {},
   "outputs": [],
   "source": [
    "# Splitting the dataset into the Training set and Test set\n",
    "from sklearn.model_selection import train_test_split\n",
    "X_train, X_test, y_train, y_test = train_test_split(X, y, test_size = 0.25, random_state = 0)"
   ]
  },
  {
   "cell_type": "code",
   "execution_count": 10,
   "metadata": {},
   "outputs": [],
   "source": [
    "# Feature Scaling\n",
    "from sklearn.preprocessing import StandardScaler\n",
    "sc_X = StandardScaler()\n",
    "X_train = sc_X.fit_transform(X_train)\n",
    "X_test = sc_X.transform(X_test) "
   ]
  },
  {
   "cell_type": "code",
   "execution_count": 11,
   "metadata": {},
   "outputs": [
    {
     "name": "stdout",
     "output_type": "stream",
     "text": [
      "[0.2197 0.1112 0.0839 0.083  0.0539 0.0527]\n"
     ]
    }
   ],
   "source": [
    "# Applying PCA\n",
    "from sklearn.decomposition import PCA\n",
    "pca = PCA(n_components = 6) # components with variance larger than 0.05\n",
    "X_train = pca.fit_transform(X_train)\n",
    "X_test = pca.transform(X_test)\n",
    "explained_variance = pca.explained_variance_ratio_\n",
    "print(explained_variance.round(4))"
   ]
  },
  {
   "cell_type": "markdown",
   "metadata": {},
   "source": [
    "### Traning and Testing Logistic Model "
   ]
  },
  {
   "cell_type": "code",
   "execution_count": 12,
   "metadata": {},
   "outputs": [
    {
     "name": "stderr",
     "output_type": "stream",
     "text": [
      "C:\\Users\\mengh\\Anaconda3\\lib\\site-packages\\sklearn\\linear_model\\logistic.py:433: FutureWarning: Default solver will be changed to 'lbfgs' in 0.22. Specify a solver to silence this warning.\n",
      "  FutureWarning)\n"
     ]
    },
    {
     "data": {
      "text/plain": [
       "LogisticRegression(C=1.0, class_weight=None, dual=False, fit_intercept=True,\n",
       "          intercept_scaling=1, max_iter=100, multi_class='warn',\n",
       "          n_jobs=None, penalty='l2', random_state=0, solver='warn',\n",
       "          tol=0.0001, verbose=0, warm_start=False)"
      ]
     },
     "execution_count": 12,
     "metadata": {},
     "output_type": "execute_result"
    }
   ],
   "source": [
    "# Fitting Logistic Regression to the Training set\n",
    "from sklearn.linear_model import LogisticRegression\n",
    "classifier = LogisticRegression(random_state = 0)\n",
    "classifier.fit(X_train, y_train)"
   ]
  },
  {
   "cell_type": "code",
   "execution_count": 13,
   "metadata": {},
   "outputs": [],
   "source": [
    "# Predicting the Test set results\n",
    "y_pred = classifier.predict(X_test)"
   ]
  },
  {
   "cell_type": "markdown",
   "metadata": {},
   "source": [
    "### Evaluation of LR Model\n",
    "From confusion matrix, we could see that we predict most of y on the test set correctly (TP and TN), which means our model is well performed. "
   ]
  },
  {
   "cell_type": "code",
   "execution_count": 14,
   "metadata": {},
   "outputs": [
    {
     "name": "stdout",
     "output_type": "stream",
     "text": [
      "confusion matrix: \n",
      "[[4533  326]\n",
      " [ 405 4736]]\n"
     ]
    }
   ],
   "source": [
    "# Making the Confusion Matrix \n",
    "from sklearn.metrics import confusion_matrix \n",
    "cm = confusion_matrix(y_test, y_pred)\n",
    "print(\"confusion matrix: \")\n",
    "print(cm)"
   ]
  },
  {
   "cell_type": "code",
   "execution_count": 15,
   "metadata": {},
   "outputs": [
    {
     "name": "stdout",
     "output_type": "stream",
     "text": [
      "precision = 0.936\n"
     ]
    }
   ],
   "source": [
    "# Compute precision score\n",
    "from sklearn.metrics import precision_score\n",
    "precision = precision_score(y_test, y_pred, pos_label=1)\n",
    "print(\"precision = %0.3f\" % precision)"
   ]
  },
  {
   "cell_type": "code",
   "execution_count": 16,
   "metadata": {},
   "outputs": [
    {
     "name": "stdout",
     "output_type": "stream",
     "text": [
      "recall = 0.921\n"
     ]
    }
   ],
   "source": [
    "# Compute recall score\n",
    "from sklearn.metrics import recall_score\n",
    "recall = recall_score(y_test, y_pred, pos_label=1)\n",
    "print(\"recall = %0.3f\" % recall)"
   ]
  },
  {
   "cell_type": "code",
   "execution_count": 17,
   "metadata": {},
   "outputs": [
    {
     "name": "stdout",
     "output_type": "stream",
     "text": [
      "F1 = 0.928\n"
     ]
    }
   ],
   "source": [
    "# Compute F1 score \n",
    "from sklearn.metrics import f1_score\n",
    "F1 = f1_score(y_test, y_pred, pos_label=1)\n",
    "print(\"F1 = %0.3F\" % F1)"
   ]
  },
  {
   "cell_type": "markdown",
   "metadata": {},
   "source": [
    "### Precision-Recall Curve and ROC Curve\n",
    "We can see that  AUC of both Precision-Recall curve and ROC curve  lager than 0.9, which shows our logistic model is well performed. "
   ]
  },
  {
   "cell_type": "code",
   "execution_count": 18,
   "metadata": {},
   "outputs": [
    {
     "name": "stdout",
     "output_type": "stream",
     "text": [
      "Area Under Curve: 0.95\n"
     ]
    },
    {
     "data": {
      "image/png": "[encoded data removed]",
      "text/plain": [
       "<Figure size 432x288 with 1 Axes>"
      ]
     },
     "metadata": {
      "needs_background": "light"
     },
     "output_type": "display_data"
    }
   ],
   "source": [
    "# Compute Precision-Recall and plot curve\n",
    "from sklearn.metrics import precision_recall_curve\n",
    "\n",
    "precision, recall, thresholds = precision_recall_curve(y_test, y_pred, pos_label=1)\n",
    "area = auc(recall, precision)\n",
    "print(\"Area Under Curve: %0.2f\" % area)\n",
    "\n",
    "plt.clf()\n",
    "plt.plot(recall, precision, 'b-', label='Precision-Recall curve')\n",
    "plt.xlabel('Recall')\n",
    "plt.ylabel('Precision')\n",
    "plt.ylim([0.0, 1.05])\n",
    "plt.xlim([0.0, 1.0])\n",
    "plt.title('Precision-Recall curve: AUC=%0.2f' % area)\n",
    "plt.legend(loc=\"lower left\")\n",
    "plt.show()"
   ]
  },
  {
   "cell_type": "code",
   "execution_count": 22,
   "metadata": {},
   "outputs": [
    {
     "name": "stdout",
     "output_type": "stream",
     "text": [
      "ROC AUC = 0.9270647789948478\n"
     ]
    }
   ],
   "source": [
    "# Compute ROC curve AUC\n",
    "from sklearn.metrics import roc_curve\n",
    "from sklearn.metrics import auc\n",
    "fpr, tpr, threshold = roc_curve(y_test, y_pred, pos_label=1)\n",
    "\n",
    "roc_auc = auc(fpr, tpr)\n",
    "print('ROC AUC = {}'.format(roc_auc))"
   ]
  },
  {
   "cell_type": "code",
   "execution_count": 23,
   "metadata": {},
   "outputs": [
    {
     "data": {
      "image/png": "[encoded data removed]",
      "text/plain": [
       "<Figure size 432x288 with 1 Axes>"
      ]
     },
     "metadata": {
      "needs_background": "light"
     },
     "output_type": "display_data"
    }
   ],
   "source": [
    "# Plot the ROC curve\n",
    "plt.title('Receiver Operating Characteristic')\n",
    "plt.plot(fpr, tpr, 'b', label = 'AUC = %0.2f' % roc_auc)\n",
    "plt.legend(loc = 'lower right')\n",
    "plt.plot([0, 1], [0, 1],'r--')\n",
    "plt.xlim([0, 1])\n",
    "plt.ylim([0, 1])\n",
    "plt.ylabel('True Positive Rate')\n",
    "plt.xlabel('False Positive Rate')\n",
    "plt.show()"
   ]
  },
  {
   "cell_type": "markdown",
   "metadata": {},
   "source": [
    "## Summary\n",
    "### Comparsion Using different data transforming\n",
    "We use different data transformation techniques to improve prediction performance. The outcomes are displayed in the following table. We can see that: \n",
    "+ Generally, our logistic model performs very well, obtaining both precision and recall larger than 0.9 on the test set.  \n",
    "+ We use normalization then PCA to improve the performance. However, it  does not change so much.  We think the raw data features are already well structured features and obtain excellent results, there is limited room to improve the performance by data transformation. \n",
    "+ We only discuss the performance of our model in terms of prediction accuracy here. We think data transformation is more important in terms of time cost of training, which will make gradient decent faster than we only use the raw data. Here, however, since our data size is relatively small and well structured (relatively close, no extreme outliers), it may be not obvious that the model is faster when we apply data transformation. \n",
    "\n",
    "| data transform | Precision | Recall | F1 score |\n",
    "| --- | --- | --- | --- |\n",
    "| raw data | 0.932 | 0.917 | 0.925 |\n",
    "| normalize | 0.934 | 0.922 | 0.928 |\n",
    "| PCA | 0.936 | 0.921 | 0.928 |\n",
    "\n",
    "\n",
    "\n"
   ]
  },
  {
   "cell_type": "code",
   "execution_count": null,
   "metadata": {},
   "outputs": [],
   "source": []
  }
 ],
 "metadata": {
  "kernelspec": {
   "display_name": "Python 3",
   "language": "python",
   "name": "python3"
  },
  "language_info": {
   "codemirror_mode": {
    "name": "ipython",
    "version": 3
   },
   "file_extension": ".py",
   "mimetype": "text/x-python",
   "name": "python",
   "nbconvert_exporter": "python",
   "pygments_lexer": "ipython3",
   "version": "3.6.7"
  },
  "varInspector": {
   "cols": {
    "lenName": 16,
    "lenType": 16,
    "lenVar": 40
   },
   "kernels_config": {
    "python": {
     "delete_cmd_postfix": "",
     "delete_cmd_prefix": "del ",
     "library": "var_list.py",
     "varRefreshCmd": "print(var_dic_list())"
    },
    "r": {
     "delete_cmd_postfix": ") ",
     "delete_cmd_prefix": "rm(",
     "library": "var_list.r",
     "varRefreshCmd": "cat(var_dic_list()) "
    }
   },
   "types_to_exclude": [
    "module",
    "function",
    "builtin_function_or_method",
    "instance",
    "_Feature"
   ],
   "window_display": false
  }
 },
 "nbformat": 4,
 "nbformat_minor": 2
}
